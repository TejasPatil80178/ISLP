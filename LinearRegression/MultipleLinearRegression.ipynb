{
 "cells": [
  {
   "cell_type": "markdown",
   "id": "3d468edb-698a-4bf2-ae4e-814c00accf91",
   "metadata": {},
   "source": [
    "# Multiple Linear Regression"
   ]
  },
  {
   "cell_type": "markdown",
   "id": "23195a74-d00b-405a-9ca9-275c8830a9fc",
   "metadata": {},
   "source": [
    "## My Model"
   ]
  },
  {
   "cell_type": "code",
   "execution_count": 131,
   "id": "b40c1d99-b447-4a18-9cd7-ca52dcee53b3",
   "metadata": {},
   "outputs": [
    {
     "name": "stdout",
     "output_type": "stream",
     "text": [
      "Hello Tejas!\n"
     ]
    }
   ],
   "source": [
    "import pandas as pd\n",
    "import numpy as np\n",
    "from matplotlib.pyplot import subplots \n",
    "%matplotlib inline\n",
    "\n",
    "import os \n",
    "import warnings\n",
    "warnings.filterwarnings('ignore')\n",
    "\n",
    "print('Hello Tejas!')"
   ]
  },
  {
   "cell_type": "code",
   "execution_count": 132,
   "id": "a169f981-8984-4f25-8758-67126d10b000",
   "metadata": {},
   "outputs": [
    {
     "name": "stdout",
     "output_type": "stream",
     "text": [
      "dataset: (506, 13)\n"
     ]
    }
   ],
   "source": [
    "# data \n",
    "from ISLP import load_data\n",
    "data = load_data('Boston')\n",
    "print(f'dataset: {data.shape}')"
   ]
  },
  {
   "cell_type": "code",
   "execution_count": 133,
   "id": "a14c8208-b01c-458d-841f-6948fe953963",
   "metadata": {},
   "outputs": [
    {
     "data": {
      "text/html": [
       "<div>\n",
       "<style scoped>\n",
       "    .dataframe tbody tr th:only-of-type {\n",
       "        vertical-align: middle;\n",
       "    }\n",
       "\n",
       "    .dataframe tbody tr th {\n",
       "        vertical-align: top;\n",
       "    }\n",
       "\n",
       "    .dataframe thead th {\n",
       "        text-align: right;\n",
       "    }\n",
       "</style>\n",
       "<table border=\"1\" class=\"dataframe\">\n",
       "  <thead>\n",
       "    <tr style=\"text-align: right;\">\n",
       "      <th></th>\n",
       "      <th>crim</th>\n",
       "      <th>zn</th>\n",
       "      <th>indus</th>\n",
       "      <th>chas</th>\n",
       "      <th>nox</th>\n",
       "      <th>rm</th>\n",
       "      <th>age</th>\n",
       "      <th>dis</th>\n",
       "      <th>rad</th>\n",
       "      <th>tax</th>\n",
       "      <th>ptratio</th>\n",
       "      <th>lstat</th>\n",
       "      <th>medv</th>\n",
       "    </tr>\n",
       "  </thead>\n",
       "  <tbody>\n",
       "    <tr>\n",
       "      <th>0</th>\n",
       "      <td>0.00632</td>\n",
       "      <td>18.0</td>\n",
       "      <td>2.31</td>\n",
       "      <td>0</td>\n",
       "      <td>0.538</td>\n",
       "      <td>6.575</td>\n",
       "      <td>65.2</td>\n",
       "      <td>4.0900</td>\n",
       "      <td>1</td>\n",
       "      <td>296</td>\n",
       "      <td>15.3</td>\n",
       "      <td>4.98</td>\n",
       "      <td>24.0</td>\n",
       "    </tr>\n",
       "    <tr>\n",
       "      <th>1</th>\n",
       "      <td>0.02731</td>\n",
       "      <td>0.0</td>\n",
       "      <td>7.07</td>\n",
       "      <td>0</td>\n",
       "      <td>0.469</td>\n",
       "      <td>6.421</td>\n",
       "      <td>78.9</td>\n",
       "      <td>4.9671</td>\n",
       "      <td>2</td>\n",
       "      <td>242</td>\n",
       "      <td>17.8</td>\n",
       "      <td>9.14</td>\n",
       "      <td>21.6</td>\n",
       "    </tr>\n",
       "    <tr>\n",
       "      <th>2</th>\n",
       "      <td>0.02729</td>\n",
       "      <td>0.0</td>\n",
       "      <td>7.07</td>\n",
       "      <td>0</td>\n",
       "      <td>0.469</td>\n",
       "      <td>7.185</td>\n",
       "      <td>61.1</td>\n",
       "      <td>4.9671</td>\n",
       "      <td>2</td>\n",
       "      <td>242</td>\n",
       "      <td>17.8</td>\n",
       "      <td>4.03</td>\n",
       "      <td>34.7</td>\n",
       "    </tr>\n",
       "    <tr>\n",
       "      <th>3</th>\n",
       "      <td>0.03237</td>\n",
       "      <td>0.0</td>\n",
       "      <td>2.18</td>\n",
       "      <td>0</td>\n",
       "      <td>0.458</td>\n",
       "      <td>6.998</td>\n",
       "      <td>45.8</td>\n",
       "      <td>6.0622</td>\n",
       "      <td>3</td>\n",
       "      <td>222</td>\n",
       "      <td>18.7</td>\n",
       "      <td>2.94</td>\n",
       "      <td>33.4</td>\n",
       "    </tr>\n",
       "    <tr>\n",
       "      <th>4</th>\n",
       "      <td>0.06905</td>\n",
       "      <td>0.0</td>\n",
       "      <td>2.18</td>\n",
       "      <td>0</td>\n",
       "      <td>0.458</td>\n",
       "      <td>7.147</td>\n",
       "      <td>54.2</td>\n",
       "      <td>6.0622</td>\n",
       "      <td>3</td>\n",
       "      <td>222</td>\n",
       "      <td>18.7</td>\n",
       "      <td>5.33</td>\n",
       "      <td>36.2</td>\n",
       "    </tr>\n",
       "  </tbody>\n",
       "</table>\n",
       "</div>"
      ],
      "text/plain": [
       "      crim    zn  indus  chas    nox     rm   age     dis  rad  tax  ptratio  \\\n",
       "0  0.00632  18.0   2.31     0  0.538  6.575  65.2  4.0900    1  296     15.3   \n",
       "1  0.02731   0.0   7.07     0  0.469  6.421  78.9  4.9671    2  242     17.8   \n",
       "2  0.02729   0.0   7.07     0  0.469  7.185  61.1  4.9671    2  242     17.8   \n",
       "3  0.03237   0.0   2.18     0  0.458  6.998  45.8  6.0622    3  222     18.7   \n",
       "4  0.06905   0.0   2.18     0  0.458  7.147  54.2  6.0622    3  222     18.7   \n",
       "\n",
       "   lstat  medv  \n",
       "0   4.98  24.0  \n",
       "1   9.14  21.6  \n",
       "2   4.03  34.7  \n",
       "3   2.94  33.4  \n",
       "4   5.33  36.2  "
      ]
     },
     "execution_count": 133,
     "metadata": {},
     "output_type": "execute_result"
    }
   ],
   "source": [
    "data.head()"
   ]
  },
  {
   "cell_type": "code",
   "execution_count": 134,
   "id": "9670e956-7e1c-4930-9cba-842635ad338c",
   "metadata": {},
   "outputs": [
    {
     "name": "stdout",
     "output_type": "stream",
     "text": [
      "Raw X: (506, 12)\n",
      "Raw Y: (506,)\n"
     ]
    }
   ],
   "source": [
    "# independent and dependent variable\n",
    "\n",
    "yraw = data['medv'].copy()\n",
    "xraw = data.drop(columns = 'medv').copy()\n",
    "print(f'Raw X: {xraw.shape}')\n",
    "print(f'Raw Y: {yraw.shape}')"
   ]
  },
  {
   "cell_type": "code",
   "execution_count": 135,
   "id": "1cc0c4ba-5cc9-45f8-afb7-ef9c867d1e5f",
   "metadata": {},
   "outputs": [
    {
     "data": {
      "image/png": "[encoded data removed]",
      "text/plain": [
       "<Figure size 700x700 with 1 Axes>"
      ]
     },
     "metadata": {},
     "output_type": "display_data"
    }
   ],
   "source": [
    "# correlation plot\n",
    "\n",
    "fig, ax = subplots(figsize = (7,7))\n",
    "\n",
    "corr_martix = xraw.corr()\n",
    "ax.imshow(abs(corr_martix), cmap = 'coolwarm')\n",
    "ax.set_xticks(range(12), labels=corr_martix.columns)\n",
    "ax.set_yticks(range(12), labels=corr_martix.columns)\n",
    "\n",
    "for i in range(len(corr_martix)):\n",
    "    for j in range(len(corr_martix.iloc[i])):\n",
    "        ax.text(i,j,round(corr_martix.iloc[i,j], 2), ha=\"center\", va=\"center\" )\n",
    "\n",
    "fig.show()"
   ]
  },
  {
   "cell_type": "code",
   "execution_count": 136,
   "id": "c9f2b63d-2ad7-47ab-8fb0-24a59ba58606",
   "metadata": {},
   "outputs": [
    {
     "name": "stdout",
     "output_type": "stream",
     "text": [
      "working with crim..\n",
      "working with zn..\n",
      "working with indus..\n",
      "working with chas..\n",
      "working with nox..\n",
      "working with rm..\n",
      "working with age..\n",
      "working with dis..\n",
      "working with rad..\n",
      "working with tax..\n",
      "working with ptratio..\n",
      "working with lstat..\n"
     ]
    }
   ],
   "source": [
    "# regression library\n",
    "import statsmodels.api as sm\n",
    "\n",
    "\n",
    "def var_analytics(df, y):\n",
    "    '''\n",
    "    input:\n",
    "        df: indenpendent variables\n",
    "        y : dependent variable\n",
    "        \n",
    "    output:\n",
    "        DataFrame: with simple linear regression analytics for each column    \n",
    "    '''\n",
    "    var_summary = pd.DataFrame(columns = ['corr','adj_r2','pvalue','rsme', 'f_value'])\n",
    "    for cols in df.columns:\n",
    "        print(f'working with {cols}..')\n",
    "        X = df[cols]\n",
    "        x = sm.add_constant(X)\n",
    "        model = sm.OLS(y,x)\n",
    "        result = model.fit()\n",
    "        var_summary.loc[cols, 'corr'] = np.corrcoef(y,df[cols])[1,0]\n",
    "        var_summary.loc[cols, 'r2'] = result.rsquared\n",
    "        var_summary.loc[cols, 'adj_r2'] = result.rsquared_adj\n",
    "        var_summary.loc[cols, 'pvalue'] = result.pvalues[1]\n",
    "        var_summary.loc[cols, 'rsme'] = np.sqrt(result.mse_resid)\n",
    "        var_summary.loc[cols, 'f_value'] = result.fvalue\n",
    "    return var_summary\n",
    "\n",
    "simple_reg_summary = var_analytics(xraw,yraw)       "
   ]
  },
  {
   "cell_type": "code",
   "execution_count": 137,
   "id": "0e556633-0fdf-408d-9df5-8d13fa6451ec",
   "metadata": {},
   "outputs": [
    {
     "data": {
      "text/html": [
       "<div>\n",
       "<style scoped>\n",
       "    .dataframe tbody tr th:only-of-type {\n",
       "        vertical-align: middle;\n",
       "    }\n",
       "\n",
       "    .dataframe tbody tr th {\n",
       "        vertical-align: top;\n",
       "    }\n",
       "\n",
       "    .dataframe thead th {\n",
       "        text-align: right;\n",
       "    }\n",
       "</style>\n",
       "<table border=\"1\" class=\"dataframe\">\n",
       "  <thead>\n",
       "    <tr style=\"text-align: right;\">\n",
       "      <th></th>\n",
       "      <th>corr</th>\n",
       "      <th>adj_r2</th>\n",
       "      <th>pvalue</th>\n",
       "      <th>rsme</th>\n",
       "      <th>f_value</th>\n",
       "      <th>r2</th>\n",
       "    </tr>\n",
       "  </thead>\n",
       "  <tbody>\n",
       "    <tr>\n",
       "      <th>lstat</th>\n",
       "      <td>-0.737663</td>\n",
       "      <td>0.543242</td>\n",
       "      <td>0.0</td>\n",
       "      <td>6.21576</td>\n",
       "      <td>601.617871</td>\n",
       "      <td>0.544146</td>\n",
       "    </tr>\n",
       "    <tr>\n",
       "      <th>rm</th>\n",
       "      <td>0.69536</td>\n",
       "      <td>0.482501</td>\n",
       "      <td>0.0</td>\n",
       "      <td>6.61616</td>\n",
       "      <td>471.84674</td>\n",
       "      <td>0.483525</td>\n",
       "    </tr>\n",
       "    <tr>\n",
       "      <th>ptratio</th>\n",
       "      <td>-0.507787</td>\n",
       "      <td>0.256375</td>\n",
       "      <td>0.0</td>\n",
       "      <td>7.931004</td>\n",
       "      <td>175.105543</td>\n",
       "      <td>0.257847</td>\n",
       "    </tr>\n",
       "    <tr>\n",
       "      <th>indus</th>\n",
       "      <td>-0.483725</td>\n",
       "      <td>0.23247</td>\n",
       "      <td>0.0</td>\n",
       "      <td>8.057471</td>\n",
       "      <td>153.954883</td>\n",
       "      <td>0.233990</td>\n",
       "    </tr>\n",
       "    <tr>\n",
       "      <th>tax</th>\n",
       "      <td>-0.468536</td>\n",
       "      <td>0.217977</td>\n",
       "      <td>0.0</td>\n",
       "      <td>8.133187</td>\n",
       "      <td>141.761357</td>\n",
       "      <td>0.219526</td>\n",
       "    </tr>\n",
       "    <tr>\n",
       "      <th>nox</th>\n",
       "      <td>-0.427321</td>\n",
       "      <td>0.180981</td>\n",
       "      <td>0.0</td>\n",
       "      <td>8.323348</td>\n",
       "      <td>112.59148</td>\n",
       "      <td>0.182603</td>\n",
       "    </tr>\n",
       "    <tr>\n",
       "      <th>crim</th>\n",
       "      <td>-0.388305</td>\n",
       "      <td>0.149096</td>\n",
       "      <td>0.0</td>\n",
       "      <td>8.483821</td>\n",
       "      <td>89.486115</td>\n",
       "      <td>0.150780</td>\n",
       "    </tr>\n",
       "    <tr>\n",
       "      <th>rad</th>\n",
       "      <td>-0.381626</td>\n",
       "      <td>0.143943</td>\n",
       "      <td>0.0</td>\n",
       "      <td>8.509467</td>\n",
       "      <td>85.914278</td>\n",
       "      <td>0.145639</td>\n",
       "    </tr>\n",
       "    <tr>\n",
       "      <th>age</th>\n",
       "      <td>-0.376955</td>\n",
       "      <td>0.140393</td>\n",
       "      <td>0.0</td>\n",
       "      <td>8.527097</td>\n",
       "      <td>83.477459</td>\n",
       "      <td>0.142095</td>\n",
       "    </tr>\n",
       "    <tr>\n",
       "      <th>zn</th>\n",
       "      <td>0.360445</td>\n",
       "      <td>0.128194</td>\n",
       "      <td>0.0</td>\n",
       "      <td>8.587384</td>\n",
       "      <td>75.257642</td>\n",
       "      <td>0.129921</td>\n",
       "    </tr>\n",
       "    <tr>\n",
       "      <th>dis</th>\n",
       "      <td>0.249929</td>\n",
       "      <td>0.060604</td>\n",
       "      <td>0.0</td>\n",
       "      <td>8.914057</td>\n",
       "      <td>33.57957</td>\n",
       "      <td>0.062464</td>\n",
       "    </tr>\n",
       "    <tr>\n",
       "      <th>chas</th>\n",
       "      <td>0.17526</td>\n",
       "      <td>0.028793</td>\n",
       "      <td>0.000074</td>\n",
       "      <td>9.063731</td>\n",
       "      <td>15.971512</td>\n",
       "      <td>0.030716</td>\n",
       "    </tr>\n",
       "  </tbody>\n",
       "</table>\n",
       "</div>"
      ],
      "text/plain": [
       "             corr    adj_r2    pvalue      rsme     f_value        r2\n",
       "lstat   -0.737663  0.543242       0.0   6.21576  601.617871  0.544146\n",
       "rm        0.69536  0.482501       0.0   6.61616   471.84674  0.483525\n",
       "ptratio -0.507787  0.256375       0.0  7.931004  175.105543  0.257847\n",
       "indus   -0.483725   0.23247       0.0  8.057471  153.954883  0.233990\n",
       "tax     -0.468536  0.217977       0.0  8.133187  141.761357  0.219526\n",
       "nox     -0.427321  0.180981       0.0  8.323348   112.59148  0.182603\n",
       "crim    -0.388305  0.149096       0.0  8.483821   89.486115  0.150780\n",
       "rad     -0.381626  0.143943       0.0  8.509467   85.914278  0.145639\n",
       "age     -0.376955  0.140393       0.0  8.527097   83.477459  0.142095\n",
       "zn       0.360445  0.128194       0.0  8.587384   75.257642  0.129921\n",
       "dis      0.249929  0.060604       0.0  8.914057    33.57957  0.062464\n",
       "chas      0.17526  0.028793  0.000074  9.063731   15.971512  0.030716"
      ]
     },
     "execution_count": 137,
     "metadata": {},
     "output_type": "execute_result"
    }
   ],
   "source": [
    "# individual var analysis\n",
    "simple_reg_summary.sort_values(by = ['adj_r2', 'pvalue', 'rsme'], ascending = [False, True, True], inplace = True)\n",
    "simple_reg_summary"
   ]
  },
  {
   "cell_type": "code",
   "execution_count": 138,
   "id": "6a130051-8533-43fb-ac63-4af3b73f8329",
   "metadata": {},
   "outputs": [
    {
     "name": "stdout",
     "output_type": "stream",
     "text": [
      "First selected variable: ['lstat'], adjusted_r2: 0.5432\n"
     ]
    }
   ],
   "source": [
    "# first variable\n",
    "pvalue_threshold = 0.05\n",
    "if simple_reg_summary.iloc[0]['pvalue'] < pvalue_threshold:\n",
    "    first_var = [simple_reg_summary.iloc[0].name]\n",
    "    max_adj_r2 = simple_reg_summary.iloc[0]['adj_r2']\n",
    "    print(f'First selected variable: {first_var}, adjusted_r2: {np.round(max_adj_r2, 4)}')\n",
    "else:\n",
    "    print(f'increase the p-value threshold')"
   ]
  },
  {
   "cell_type": "code",
   "execution_count": 139,
   "id": "6171deb1-61bb-4d70-b9b4-75a614caac15",
   "metadata": {},
   "outputs": [],
   "source": [
    "# Multiple Linear Regression Function\n",
    "\n",
    "def correlation_check(data, old_cols, new_col, threshold):\n",
    "    res = True\n",
    "    if len(old_cols) == 0:\n",
    "        return True\n",
    "    else:\n",
    "        for col in old_cols:\n",
    "            if abs(np.corrcoef(data[col], data[new_col])[0,1]) > threshold:\n",
    "                return False\n",
    "    return res\n",
    "\n",
    "def model_performance(y, x, old, new):\n",
    "    features = old + [new]\n",
    "    final_x = sm.add_constant(x[features])\n",
    "    final_y = y.copy()\n",
    "    model = sm.OLS(final_y, final_x)\n",
    "    result = model.fit()\n",
    "    return result.rsquared_adj\n",
    "        \n",
    "def forward_selection(y, x, final_vars, threshold, adj_r2_threshold):\n",
    "    selected_vars = final_vars.copy()\n",
    "    high_correaltion = []\n",
    "    while(True):\n",
    "        prev_adj_r2 = adj_r2_threshold\n",
    "        all_vars = [x for x in x.columns if x not in list(set(selected_vars + high_correaltion))]\n",
    "        new_r2 = {}\n",
    "        for col in all_vars:\n",
    "            if correlation_check(x, selected_vars, col, threshold):\n",
    "                adj_r2 = model_performance(y, x, selected_vars, col)\n",
    "                new_r2[col] = adj_r2\n",
    "                adj_r2_threshold = max(adj_r2_threshold, adj_r2)\n",
    "                print(f'vars:{selected_vars + [col]}, adj_r2: {np.round(adj_r2, 4)}, prev_adj_r2:{np.round(prev_adj_r2,4)},  max_adj_r2: {np.round(adj_r2_threshold, 4)}')\n",
    "            else:\n",
    "                high_correaltion.append(col)\n",
    "                print(f'{col} not included due to multi-collinearity, absolute correlation: {np.round(max(abs(x[selected_vars + [col]].corr().loc[col].drop(col))), 4)}')\n",
    "        if prev_adj_r2 == adj_r2_threshold:\n",
    "            return selected_vars\n",
    "        for key, value in new_r2.items():\n",
    "            if value == adj_r2_threshold:\n",
    "                print(f'Added {key} in the final variables, new adjusted_r2: {np.round(adj_r2_threshold,4)}')\n",
    "                selected_vars.append(key)"
   ]
  },
  {
   "cell_type": "code",
   "execution_count": 140,
   "id": "15c18b9b-245a-48bc-b341-f0801fad91f1",
   "metadata": {},
   "outputs": [
    {
     "name": "stdout",
     "output_type": "stream",
     "text": [
      "vars:['lstat', 'crim'], adj_r2: 0.5458, prev_adj_r2:0.5432,  max_adj_r2: 0.5458\n",
      "vars:['lstat', 'zn'], adj_r2: 0.5461, prev_adj_r2:0.5432,  max_adj_r2: 0.5461\n",
      "vars:['lstat', 'indus'], adj_r2: 0.5447, prev_adj_r2:0.5432,  max_adj_r2: 0.5461\n",
      "vars:['lstat', 'chas'], adj_r2: 0.5608, prev_adj_r2:0.5432,  max_adj_r2: 0.5608\n",
      "vars:['lstat', 'nox'], adj_r2: 0.5424, prev_adj_r2:0.5432,  max_adj_r2: 0.5608\n",
      "vars:['lstat', 'rm'], adj_r2: 0.6371, prev_adj_r2:0.5432,  max_adj_r2: 0.6371\n",
      "vars:['lstat', 'age'], adj_r2: 0.5495, prev_adj_r2:0.5432,  max_adj_r2: 0.6371\n",
      "vars:['lstat', 'dis'], adj_r2: 0.5605, prev_adj_r2:0.5432,  max_adj_r2: 0.6371\n",
      "vars:['lstat', 'rad'], adj_r2: 0.5429, prev_adj_r2:0.5432,  max_adj_r2: 0.6371\n",
      "vars:['lstat', 'tax'], adj_r2: 0.5488, prev_adj_r2:0.5432,  max_adj_r2: 0.6371\n",
      "vars:['lstat', 'ptratio'], adj_r2: 0.6051, prev_adj_r2:0.5432,  max_adj_r2: 0.6371\n",
      "Added rm in the final variables, new adjusted_r2: 0.6371\n",
      "vars:['lstat', 'rm', 'crim'], adj_r2: 0.6437, prev_adj_r2:0.6371,  max_adj_r2: 0.6437\n",
      "vars:['lstat', 'rm', 'zn'], adj_r2: 0.6377, prev_adj_r2:0.6371,  max_adj_r2: 0.6437\n",
      "vars:['lstat', 'rm', 'indus'], adj_r2: 0.6378, prev_adj_r2:0.6371,  max_adj_r2: 0.6437\n",
      "vars:['lstat', 'rm', 'chas'], adj_r2: 0.6493, prev_adj_r2:0.6371,  max_adj_r2: 0.6493\n",
      "vars:['lstat', 'rm', 'nox'], adj_r2: 0.6368, prev_adj_r2:0.6371,  max_adj_r2: 0.6493\n",
      "vars:['lstat', 'rm', 'age'], adj_r2: 0.6369, prev_adj_r2:0.6371,  max_adj_r2: 0.6493\n",
      "vars:['lstat', 'rm', 'dis'], adj_r2: 0.6447, prev_adj_r2:0.6371,  max_adj_r2: 0.6493\n",
      "vars:['lstat', 'rm', 'rad'], adj_r2: 0.6407, prev_adj_r2:0.6371,  max_adj_r2: 0.6493\n",
      "vars:['lstat', 'rm', 'tax'], adj_r2: 0.6464, prev_adj_r2:0.6371,  max_adj_r2: 0.6493\n",
      "vars:['lstat', 'rm', 'ptratio'], adj_r2: 0.6767, prev_adj_r2:0.6371,  max_adj_r2: 0.6767\n",
      "Added ptratio in the final variables, new adjusted_r2: 0.6767\n",
      "vars:['lstat', 'rm', 'ptratio', 'crim'], adj_r2: 0.6789, prev_adj_r2:0.6767,  max_adj_r2: 0.6789\n",
      "vars:['lstat', 'rm', 'ptratio', 'zn'], adj_r2: 0.6764, prev_adj_r2:0.6767,  max_adj_r2: 0.6789\n",
      "vars:['lstat', 'rm', 'ptratio', 'indus'], adj_r2: 0.6761, prev_adj_r2:0.6767,  max_adj_r2: 0.6789\n",
      "vars:['lstat', 'rm', 'ptratio', 'chas'], adj_r2: 0.685, prev_adj_r2:0.6767,  max_adj_r2: 0.685\n",
      "vars:['lstat', 'rm', 'ptratio', 'nox'], adj_r2: 0.6766, prev_adj_r2:0.6767,  max_adj_r2: 0.685\n",
      "vars:['lstat', 'rm', 'ptratio', 'age'], adj_r2: 0.6776, prev_adj_r2:0.6767,  max_adj_r2: 0.685\n",
      "vars:['lstat', 'rm', 'ptratio', 'dis'], adj_r2: 0.6878, prev_adj_r2:0.6767,  max_adj_r2: 0.6878\n",
      "vars:['lstat', 'rm', 'ptratio', 'rad'], adj_r2: 0.6762, prev_adj_r2:0.6767,  max_adj_r2: 0.6878\n",
      "vars:['lstat', 'rm', 'ptratio', 'tax'], adj_r2: 0.6771, prev_adj_r2:0.6767,  max_adj_r2: 0.6878\n",
      "Added dis in the final variables, new adjusted_r2: 0.6878\n",
      "vars:['lstat', 'rm', 'ptratio', 'dis', 'crim'], adj_r2: 0.6927, prev_adj_r2:0.6878,  max_adj_r2: 0.6927\n",
      "vars:['lstat', 'rm', 'ptratio', 'dis', 'zn'], adj_r2: 0.6906, prev_adj_r2:0.6878,  max_adj_r2: 0.6927\n",
      "indus not included due to multi-collinearity, absolute correlation: 0.708\n",
      "vars:['lstat', 'rm', 'ptratio', 'dis', 'chas'], adj_r2: 0.6935, prev_adj_r2:0.6878,  max_adj_r2: 0.6935\n",
      "nox not included due to multi-collinearity, absolute correlation: 0.7692\n",
      "age not included due to multi-collinearity, absolute correlation: 0.7479\n",
      "vars:['lstat', 'rm', 'ptratio', 'dis', 'rad'], adj_r2: 0.6877, prev_adj_r2:0.6878,  max_adj_r2: 0.6935\n",
      "vars:['lstat', 'rm', 'ptratio', 'dis', 'tax'], adj_r2: 0.6929, prev_adj_r2:0.6878,  max_adj_r2: 0.6935\n",
      "Added chas in the final variables, new adjusted_r2: 0.6935\n",
      "vars:['lstat', 'rm', 'ptratio', 'dis', 'chas', 'crim'], adj_r2: 0.6978, prev_adj_r2:0.6935,  max_adj_r2: 0.6978\n",
      "vars:['lstat', 'rm', 'ptratio', 'dis', 'chas', 'zn'], adj_r2: 0.6966, prev_adj_r2:0.6935,  max_adj_r2: 0.6978\n",
      "vars:['lstat', 'rm', 'ptratio', 'dis', 'chas', 'rad'], adj_r2: 0.6935, prev_adj_r2:0.6935,  max_adj_r2: 0.6978\n",
      "vars:['lstat', 'rm', 'ptratio', 'dis', 'chas', 'tax'], adj_r2: 0.6983, prev_adj_r2:0.6935,  max_adj_r2: 0.6983\n",
      "Added tax in the final variables, new adjusted_r2: 0.6983\n",
      "vars:['lstat', 'rm', 'ptratio', 'dis', 'chas', 'tax', 'crim'], adj_r2: 0.6997, prev_adj_r2:0.6983,  max_adj_r2: 0.6997\n",
      "vars:['lstat', 'rm', 'ptratio', 'dis', 'chas', 'tax', 'zn'], adj_r2: 0.7042, prev_adj_r2:0.6983,  max_adj_r2: 0.7042\n",
      "rad not included due to multi-collinearity, absolute correlation: 0.9102\n",
      "Added zn in the final variables, new adjusted_r2: 0.7042\n",
      "vars:['lstat', 'rm', 'ptratio', 'dis', 'chas', 'tax', 'zn', 'crim'], adj_r2: 0.7063, prev_adj_r2:0.7042,  max_adj_r2: 0.7063\n",
      "Added crim in the final variables, new adjusted_r2: 0.7063\n"
     ]
    }
   ],
   "source": [
    "final_vars = forward_selection(y = yraw, x = xraw, final_vars = first_var, threshold = 0.7, adj_r2_threshold = max_adj_r2)"
   ]
  },
  {
   "cell_type": "code",
   "execution_count": 141,
   "id": "9e163e3b-3163-4b22-ad68-222a2d91b7c7",
   "metadata": {},
   "outputs": [
    {
     "data": {
      "text/plain": [
       "['lstat', 'rm', 'ptratio', 'dis', 'chas', 'tax', 'zn', 'crim']"
      ]
     },
     "execution_count": 141,
     "metadata": {},
     "output_type": "execute_result"
    }
   ],
   "source": [
    "final_vars"
   ]
  },
  {
   "cell_type": "code",
   "execution_count": 144,
   "id": "ef5a36e9-7e4c-4944-9b95-ecc048013317",
   "metadata": {},
   "outputs": [
    {
     "data": {
      "text/html": [
       "<div>\n",
       "<style scoped>\n",
       "    .dataframe tbody tr th:only-of-type {\n",
       "        vertical-align: middle;\n",
       "    }\n",
       "\n",
       "    .dataframe tbody tr th {\n",
       "        vertical-align: top;\n",
       "    }\n",
       "\n",
       "    .dataframe thead th {\n",
       "        text-align: right;\n",
       "    }\n",
       "</style>\n",
       "<table border=\"1\" class=\"dataframe\">\n",
       "  <thead>\n",
       "    <tr style=\"text-align: right;\">\n",
       "      <th></th>\n",
       "      <th>lstat</th>\n",
       "      <th>rm</th>\n",
       "      <th>ptratio</th>\n",
       "      <th>dis</th>\n",
       "      <th>chas</th>\n",
       "      <th>tax</th>\n",
       "      <th>zn</th>\n",
       "      <th>crim</th>\n",
       "    </tr>\n",
       "  </thead>\n",
       "  <tbody>\n",
       "    <tr>\n",
       "      <th>lstat</th>\n",
       "      <td>1.000000</td>\n",
       "      <td>-0.613808</td>\n",
       "      <td>0.374044</td>\n",
       "      <td>-0.496996</td>\n",
       "      <td>-0.053929</td>\n",
       "      <td>0.543993</td>\n",
       "      <td>-0.412995</td>\n",
       "      <td>0.455621</td>\n",
       "    </tr>\n",
       "    <tr>\n",
       "      <th>rm</th>\n",
       "      <td>-0.613808</td>\n",
       "      <td>1.000000</td>\n",
       "      <td>-0.355501</td>\n",
       "      <td>0.205246</td>\n",
       "      <td>0.091251</td>\n",
       "      <td>-0.292048</td>\n",
       "      <td>0.311991</td>\n",
       "      <td>-0.219247</td>\n",
       "    </tr>\n",
       "    <tr>\n",
       "      <th>ptratio</th>\n",
       "      <td>0.374044</td>\n",
       "      <td>-0.355501</td>\n",
       "      <td>1.000000</td>\n",
       "      <td>-0.232471</td>\n",
       "      <td>-0.121515</td>\n",
       "      <td>0.460853</td>\n",
       "      <td>-0.391679</td>\n",
       "      <td>0.289946</td>\n",
       "    </tr>\n",
       "    <tr>\n",
       "      <th>dis</th>\n",
       "      <td>-0.496996</td>\n",
       "      <td>0.205246</td>\n",
       "      <td>-0.232471</td>\n",
       "      <td>1.000000</td>\n",
       "      <td>-0.099176</td>\n",
       "      <td>-0.534432</td>\n",
       "      <td>0.664408</td>\n",
       "      <td>-0.379670</td>\n",
       "    </tr>\n",
       "    <tr>\n",
       "      <th>chas</th>\n",
       "      <td>-0.053929</td>\n",
       "      <td>0.091251</td>\n",
       "      <td>-0.121515</td>\n",
       "      <td>-0.099176</td>\n",
       "      <td>1.000000</td>\n",
       "      <td>-0.035587</td>\n",
       "      <td>-0.042697</td>\n",
       "      <td>-0.055892</td>\n",
       "    </tr>\n",
       "    <tr>\n",
       "      <th>tax</th>\n",
       "      <td>0.543993</td>\n",
       "      <td>-0.292048</td>\n",
       "      <td>0.460853</td>\n",
       "      <td>-0.534432</td>\n",
       "      <td>-0.035587</td>\n",
       "      <td>1.000000</td>\n",
       "      <td>-0.314563</td>\n",
       "      <td>0.582764</td>\n",
       "    </tr>\n",
       "    <tr>\n",
       "      <th>zn</th>\n",
       "      <td>-0.412995</td>\n",
       "      <td>0.311991</td>\n",
       "      <td>-0.391679</td>\n",
       "      <td>0.664408</td>\n",
       "      <td>-0.042697</td>\n",
       "      <td>-0.314563</td>\n",
       "      <td>1.000000</td>\n",
       "      <td>-0.200469</td>\n",
       "    </tr>\n",
       "    <tr>\n",
       "      <th>crim</th>\n",
       "      <td>0.455621</td>\n",
       "      <td>-0.219247</td>\n",
       "      <td>0.289946</td>\n",
       "      <td>-0.379670</td>\n",
       "      <td>-0.055892</td>\n",
       "      <td>0.582764</td>\n",
       "      <td>-0.200469</td>\n",
       "      <td>1.000000</td>\n",
       "    </tr>\n",
       "  </tbody>\n",
       "</table>\n",
       "</div>"
      ],
      "text/plain": [
       "            lstat        rm   ptratio       dis      chas       tax        zn  \\\n",
       "lstat    1.000000 -0.613808  0.374044 -0.496996 -0.053929  0.543993 -0.412995   \n",
       "rm      -0.613808  1.000000 -0.355501  0.205246  0.091251 -0.292048  0.311991   \n",
       "ptratio  0.374044 -0.355501  1.000000 -0.232471 -0.121515  0.460853 -0.391679   \n",
       "dis     -0.496996  0.205246 -0.232471  1.000000 -0.099176 -0.534432  0.664408   \n",
       "chas    -0.053929  0.091251 -0.121515 -0.099176  1.000000 -0.035587 -0.042697   \n",
       "tax      0.543993 -0.292048  0.460853 -0.534432 -0.035587  1.000000 -0.314563   \n",
       "zn      -0.412995  0.311991 -0.391679  0.664408 -0.042697 -0.314563  1.000000   \n",
       "crim     0.455621 -0.219247  0.289946 -0.379670 -0.055892  0.582764 -0.200469   \n",
       "\n",
       "             crim  \n",
       "lstat    0.455621  \n",
       "rm      -0.219247  \n",
       "ptratio  0.289946  \n",
       "dis     -0.379670  \n",
       "chas    -0.055892  \n",
       "tax      0.582764  \n",
       "zn      -0.200469  \n",
       "crim     1.000000  "
      ]
     },
     "execution_count": 144,
     "metadata": {},
     "output_type": "execute_result"
    }
   ],
   "source": [
    "xraw[final_vars].corr()"
   ]
  },
  {
   "cell_type": "code",
   "execution_count": 129,
   "id": "76e63c8f-c164-43cc-b230-a276c9d7bc47",
   "metadata": {},
   "outputs": [
    {
     "name": "stdout",
     "output_type": "stream",
     "text": [
      "                            OLS Regression Results                            \n",
      "==============================================================================\n",
      "Dep. Variable:                   medv   R-squared:                       0.711\n",
      "Model:                            OLS   Adj. R-squared:                  0.706\n",
      "Method:                 Least Squares   F-statistic:                     152.8\n",
      "Date:                Mon, 22 Apr 2024   Prob (F-statistic):          1.06e-128\n",
      "Time:                        22:25:57   Log-Likelihood:                -1526.2\n",
      "No. Observations:                 506   AIC:                             3070.\n",
      "Df Residuals:                     497   BIC:                             3108.\n",
      "Df Model:                           8                                         \n",
      "Covariance Type:            nonrobust                                         \n",
      "==============================================================================\n",
      "                 coef    std err          t      P>|t|      [0.025      0.975]\n",
      "------------------------------------------------------------------------------\n",
      "const         21.8561      3.999      5.466      0.000      13.999      29.713\n",
      "lstat         -0.5979      0.048    -12.412      0.000      -0.692      -0.503\n",
      "rm             4.1182      0.418      9.860      0.000       3.298       4.939\n",
      "ptratio       -0.6555      0.128     -5.119      0.000      -0.907      -0.404\n",
      "dis           -1.0192      0.171     -5.952      0.000      -1.356      -0.683\n",
      "chas           2.8177      0.892      3.158      0.002       1.065       4.571\n",
      "tax           -0.0053      0.002     -2.689      0.007      -0.009      -0.001\n",
      "zn             0.0492      0.014      3.485      0.001       0.021       0.077\n",
      "crim          -0.0700      0.033     -2.145      0.032      -0.134      -0.006\n",
      "==============================================================================\n",
      "Omnibus:                      182.834   Durbin-Watson:                   1.017\n",
      "Prob(Omnibus):                  0.000   Jarque-Bera (JB):              857.646\n",
      "Skew:                           1.542   Prob(JB):                    5.82e-187\n",
      "Kurtosis:                       8.583   Cond. No.                     8.02e+03\n",
      "==============================================================================\n",
      "\n",
      "Notes:\n",
      "[1] Standard Errors assume that the covariance matrix of the errors is correctly specified.\n",
      "[2] The condition number is large, 8.02e+03. This might indicate that there are\n",
      "strong multicollinearity or other numerical problems.\n"
     ]
    }
   ],
   "source": [
    "# final model\n",
    "x = sm.add_constant(xraw[final_vars])\n",
    "model = sm.OLS(yraw, x)\n",
    "result = model.fit()\n",
    "print(result.summary())"
   ]
  },
  {
   "cell_type": "markdown",
   "id": "d81dba3e-fd0b-4a39-b88a-9f202ff0c681",
   "metadata": {},
   "source": [
    "# ISLP"
   ]
  },
  {
   "cell_type": "code",
   "execution_count": 48,
   "id": "f402f12f-ad0c-4d8a-af26-13a34c61cd17",
   "metadata": {},
   "outputs": [],
   "source": [
    "import pandas as pd\n",
    "import numpy as np\n",
    "from matplotlib.pyplot import subplots\n",
    "%matplotlib inline\n",
    "\n",
    "import warnings\n",
    "warnings.filterwarnings('ignore')"
   ]
  },
  {
   "cell_type": "code",
   "execution_count": 49,
   "id": "70b3d531-b7f1-4e22-817f-fbdb0797f109",
   "metadata": {},
   "outputs": [],
   "source": [
    "# ISLP\n",
    "\n",
    "from ISLP import load_data"
   ]
  },
  {
   "cell_type": "code",
   "execution_count": 50,
   "id": "5b147d75-0164-46fe-a25b-a9d11d04e789",
   "metadata": {},
   "outputs": [],
   "source": [
    "# statsmodel\n",
    "\n",
    "import statsmodels.api as sm\n",
    "from statsmodels.stats.outliers_influence import variance_inflation_factor as VIF\n",
    "from statsmodels.stats.anova import anova_lm"
   ]
  },
  {
   "cell_type": "code",
   "execution_count": 51,
   "id": "e19a9f4c-6ccd-42e8-999c-ffb41bef1a8b",
   "metadata": {},
   "outputs": [
    {
     "name": "stdout",
     "output_type": "stream",
     "text": [
      "X: (506, 12)\n"
     ]
    }
   ],
   "source": [
    "data = load_data('Boston')\n",
    "x = data.drop(columns = ['medv']).copy()\n",
    "y = data['medv'].copy()\n",
    "\n",
    "print(f'X: {x.shape}')"
   ]
  },
  {
   "cell_type": "code",
   "execution_count": 82,
   "id": "2608c995-9797-4b01-8304-43145a21a2b1",
   "metadata": {},
   "outputs": [],
   "source": [
    "# Model \n",
    "def model_build(y, x, features):\n",
    "    X = sm.add_constant(x[features])\n",
    "    model = sm.OLS(y,X)\n",
    "    result = model.fit()\n",
    "    print(result.summary())"
   ]
  },
  {
   "cell_type": "code",
   "execution_count": 83,
   "id": "9183b100-3328-4298-9f37-2c82d0047e77",
   "metadata": {},
   "outputs": [
    {
     "name": "stdout",
     "output_type": "stream",
     "text": [
      "                            OLS Regression Results                            \n",
      "==============================================================================\n",
      "Dep. Variable:                   medv   R-squared:                       0.734\n",
      "Model:                            OLS   Adj. R-squared:                  0.728\n",
      "Method:                 Least Squares   F-statistic:                     113.5\n",
      "Date:                Mon, 22 Apr 2024   Prob (F-statistic):          2.23e-133\n",
      "Time:                        22:10:12   Log-Likelihood:                -1504.9\n",
      "No. Observations:                 506   AIC:                             3036.\n",
      "Df Residuals:                     493   BIC:                             3091.\n",
      "Df Model:                          12                                         \n",
      "Covariance Type:            nonrobust                                         \n",
      "==============================================================================\n",
      "                 coef    std err          t      P>|t|      [0.025      0.975]\n",
      "------------------------------------------------------------------------------\n",
      "const         41.6173      4.936      8.431      0.000      31.919      51.316\n",
      "crim          -0.1214      0.033     -3.678      0.000      -0.186      -0.057\n",
      "zn             0.0470      0.014      3.384      0.001       0.020       0.074\n",
      "indus          0.0135      0.062      0.217      0.829      -0.109       0.136\n",
      "chas           2.8400      0.870      3.264      0.001       1.131       4.549\n",
      "nox          -18.7580      3.851     -4.870      0.000     -26.325     -11.191\n",
      "rm             3.6581      0.420      8.705      0.000       2.832       4.484\n",
      "age            0.0036      0.013      0.271      0.787      -0.023       0.030\n",
      "dis           -1.4908      0.202     -7.394      0.000      -1.887      -1.095\n",
      "rad            0.2894      0.067      4.325      0.000       0.158       0.421\n",
      "tax           -0.0127      0.004     -3.337      0.001      -0.020      -0.005\n",
      "ptratio       -0.9375      0.132     -7.091      0.000      -1.197      -0.678\n",
      "lstat         -0.5520      0.051    -10.897      0.000      -0.652      -0.452\n",
      "==============================================================================\n",
      "Omnibus:                      171.096   Durbin-Watson:                   1.077\n",
      "Prob(Omnibus):                  0.000   Jarque-Bera (JB):              709.937\n",
      "Skew:                           1.477   Prob(JB):                    6.90e-155\n",
      "Kurtosis:                       7.995   Cond. No.                     1.17e+04\n",
      "==============================================================================\n",
      "\n",
      "Notes:\n",
      "[1] Standard Errors assume that the covariance matrix of the errors is correctly specified.\n",
      "[2] The condition number is large, 1.17e+04. This might indicate that there are\n",
      "strong multicollinearity or other numerical problems.\n"
     ]
    }
   ],
   "source": [
    "features = x.columns\n",
    "model_build(y,x,features)"
   ]
  },
  {
   "cell_type": "code",
   "execution_count": 84,
   "id": "2bda3fd0-3d43-403c-bdae-2bbd65e437f5",
   "metadata": {},
   "outputs": [
    {
     "data": {
      "text/plain": [
       "\u001b[0;31mSignature:\u001b[0m \u001b[0mVIF\u001b[0m\u001b[0;34m(\u001b[0m\u001b[0mexog\u001b[0m\u001b[0;34m,\u001b[0m \u001b[0mexog_idx\u001b[0m\u001b[0;34m)\u001b[0m\u001b[0;34m\u001b[0m\u001b[0;34m\u001b[0m\u001b[0m\n",
       "\u001b[0;31mDocstring:\u001b[0m\n",
       "Variance inflation factor, VIF, for one exogenous variable\n",
       "\n",
       "The variance inflation factor is a measure for the increase of the\n",
       "variance of the parameter estimates if an additional variable, given by\n",
       "exog_idx is added to the linear regression. It is a measure for\n",
       "multicollinearity of the design matrix, exog.\n",
       "\n",
       "One recommendation is that if VIF is greater than 5, then the explanatory\n",
       "variable given by exog_idx is highly collinear with the other explanatory\n",
       "variables, and the parameter estimates will have large standard errors\n",
       "because of this.\n",
       "\n",
       "Parameters\n",
       "----------\n",
       "exog : {ndarray, DataFrame}\n",
       "    design matrix with all explanatory variables, as for example used in\n",
       "    regression\n",
       "exog_idx : int\n",
       "    index of the exogenous variable in the columns of exog\n",
       "\n",
       "Returns\n",
       "-------\n",
       "float\n",
       "    variance inflation factor\n",
       "\n",
       "Notes\n",
       "-----\n",
       "This function does not save the auxiliary regression.\n",
       "\n",
       "See Also\n",
       "--------\n",
       "xxx : class for regression diagnostics  TODO: does not exist yet\n",
       "\n",
       "References\n",
       "----------\n",
       "https://en.wikipedia.org/wiki/Variance_inflation_factor\n",
       "\u001b[0;31mFile:\u001b[0m      ~/miniconda3/envs/islp/lib/python3.11/site-packages/statsmodels/stats/outliers_influence.py\n",
       "\u001b[0;31mType:\u001b[0m      function"
      ]
     },
     "metadata": {},
     "output_type": "display_data"
    }
   ],
   "source": [
    "# variance_inflation_factor\n",
    "VIF?"
   ]
  },
  {
   "cell_type": "code",
   "execution_count": 85,
   "id": "95b032d4-5f81-49a4-8e77-16a25930c532",
   "metadata": {},
   "outputs": [
    {
     "data": {
      "text/plain": [
       "{'crim': 1.7675,\n",
       " 'zn': 2.2985,\n",
       " 'indus': 3.9872,\n",
       " 'chas': 1.0712,\n",
       " 'nox': 4.3691,\n",
       " 'rm': 1.9125,\n",
       " 'age': 3.0882,\n",
       " 'dis': 3.954,\n",
       " 'rad': 7.4453,\n",
       " 'tax': 9.0022,\n",
       " 'ptratio': 1.7971,\n",
       " 'lstat': 2.8708}"
      ]
     },
     "execution_count": 85,
     "metadata": {},
     "output_type": "execute_result"
    }
   ],
   "source": [
    "# VIF\n",
    "X = sm.add_constant(x)\n",
    "{X.columns[i]: np.round(VIF(X,i), 4) for i in range(1, len(X.columns))}"
   ]
  },
  {
   "cell_type": "code",
   "execution_count": 90,
   "id": "0e7d5a77-1283-44be-8fbf-1be6a9878112",
   "metadata": {},
   "outputs": [
    {
     "data": {
      "text/plain": [
       "Index(['crim', 'zn', 'indus', 'chas', 'nox', 'rm', 'age', 'dis', 'rad',\n",
       "       'ptratio', 'lstat'],\n",
       "      dtype='object')"
      ]
     },
     "execution_count": 90,
     "metadata": {},
     "output_type": "execute_result"
    }
   ],
   "source": [
    "features = features.drop('tax')\n",
    "features"
   ]
  },
  {
   "cell_type": "code",
   "execution_count": 91,
   "id": "4d5d8e37-2446-4ac1-80c6-bc2b17398bd7",
   "metadata": {},
   "outputs": [
    {
     "name": "stdout",
     "output_type": "stream",
     "text": [
      "                            OLS Regression Results                            \n",
      "==============================================================================\n",
      "Dep. Variable:                   medv   R-squared:                       0.728\n",
      "Model:                            OLS   Adj. R-squared:                  0.722\n",
      "Method:                 Least Squares   F-statistic:                     120.4\n",
      "Date:                Mon, 22 Apr 2024   Prob (F-statistic):          4.68e-132\n",
      "Time:                        22:11:37   Log-Likelihood:                -1510.6\n",
      "No. Observations:                 506   AIC:                             3045.\n",
      "Df Residuals:                     494   BIC:                             3096.\n",
      "Df Model:                          11                                         \n",
      "Covariance Type:            nonrobust                                         \n",
      "==============================================================================\n",
      "                 coef    std err          t      P>|t|      [0.025      0.975]\n",
      "------------------------------------------------------------------------------\n",
      "const         39.8673      4.958      8.041      0.000      30.126      49.609\n",
      "crim          -0.1204      0.033     -3.612      0.000      -0.186      -0.055\n",
      "zn             0.0366      0.014      2.681      0.008       0.010       0.063\n",
      "indus         -0.0776      0.056     -1.376      0.169      -0.188       0.033\n",
      "chas           3.1964      0.872      3.665      0.000       1.483       4.910\n",
      "nox          -19.7453      3.879     -5.090      0.000     -27.367     -12.124\n",
      "rm             3.7590      0.423      8.877      0.000       2.927       4.591\n",
      "age            0.0024      0.013      0.175      0.861      -0.024       0.029\n",
      "dis           -1.5043      0.204     -7.387      0.000      -1.904      -1.104\n",
      "rad            0.1125      0.041      2.729      0.007       0.032       0.194\n",
      "ptratio       -0.9705      0.133     -7.287      0.000      -1.232      -0.709\n",
      "lstat         -0.5501      0.051    -10.750      0.000      -0.651      -0.450\n",
      "==============================================================================\n",
      "Omnibus:                      161.497   Durbin-Watson:                   1.088\n",
      "Prob(Omnibus):                  0.000   Jarque-Bera (JB):              632.122\n",
      "Skew:                           1.407   Prob(JB):                    5.45e-138\n",
      "Kurtosis:                       7.697   Cond. No.                     2.08e+03\n",
      "==============================================================================\n",
      "\n",
      "Notes:\n",
      "[1] Standard Errors assume that the covariance matrix of the errors is correctly specified.\n",
      "[2] The condition number is large, 2.08e+03. This might indicate that there are\n",
      "strong multicollinearity or other numerical problems.\n"
     ]
    }
   ],
   "source": [
    "model_build(y, x, features)"
   ]
  },
  {
   "cell_type": "code",
   "execution_count": 92,
   "id": "bd2520b6-0cb3-45c7-9ccc-a685e872db9d",
   "metadata": {},
   "outputs": [],
   "source": [
    "features = features.drop('age') # age had hgh p_value"
   ]
  },
  {
   "cell_type": "code",
   "execution_count": 93,
   "id": "4787d84b-2d40-4df2-8462-b6a661785fb8",
   "metadata": {},
   "outputs": [
    {
     "data": {
      "text/plain": [
       "Index(['crim', 'zn', 'indus', 'chas', 'nox', 'rm', 'dis', 'rad', 'ptratio',\n",
       "       'lstat'],\n",
       "      dtype='object')"
      ]
     },
     "execution_count": 93,
     "metadata": {},
     "output_type": "execute_result"
    }
   ],
   "source": [
    "features"
   ]
  },
  {
   "cell_type": "code",
   "execution_count": 94,
   "id": "af0f3008-0b50-4355-8753-98ba3439ce19",
   "metadata": {},
   "outputs": [
    {
     "name": "stdout",
     "output_type": "stream",
     "text": [
      "                            OLS Regression Results                            \n",
      "==============================================================================\n",
      "Dep. Variable:                   medv   R-squared:                       0.728\n",
      "Model:                            OLS   Adj. R-squared:                  0.723\n",
      "Method:                 Least Squares   F-statistic:                     132.7\n",
      "Date:                Mon, 22 Apr 2024   Prob (F-statistic):          4.02e-133\n",
      "Time:                        22:12:53   Log-Likelihood:                -1510.6\n",
      "No. Observations:                 506   AIC:                             3043.\n",
      "Df Residuals:                     495   BIC:                             3090.\n",
      "Df Model:                          10                                         \n",
      "Covariance Type:            nonrobust                                         \n",
      "==============================================================================\n",
      "                 coef    std err          t      P>|t|      [0.025      0.975]\n",
      "------------------------------------------------------------------------------\n",
      "const         39.8099      4.942      8.055      0.000      30.099      49.521\n",
      "crim          -0.1204      0.033     -3.617      0.000      -0.186      -0.055\n",
      "zn             0.0364      0.014      2.681      0.008       0.010       0.063\n",
      "indus         -0.0775      0.056     -1.375      0.170      -0.188       0.033\n",
      "chas           3.2042      0.870      3.682      0.000       1.494       4.914\n",
      "nox          -19.5660      3.737     -5.236      0.000     -26.909     -12.223\n",
      "rm             3.7738      0.414      9.105      0.000       2.959       4.588\n",
      "dis           -1.5147      0.195     -7.787      0.000      -1.897      -1.133\n",
      "rad            0.1119      0.041      2.727      0.007       0.031       0.192\n",
      "ptratio       -0.9685      0.133     -7.304      0.000      -1.229      -0.708\n",
      "lstat         -0.5471      0.048    -11.362      0.000      -0.642      -0.452\n",
      "==============================================================================\n",
      "Omnibus:                      162.407   Durbin-Watson:                   1.086\n",
      "Prob(Omnibus):                  0.000   Jarque-Bera (JB):              640.919\n",
      "Skew:                           1.413   Prob(JB):                    6.70e-140\n",
      "Kurtosis:                       7.735   Cond. No.                         820.\n",
      "==============================================================================\n",
      "\n",
      "Notes:\n",
      "[1] Standard Errors assume that the covariance matrix of the errors is correctly specified.\n"
     ]
    }
   ],
   "source": [
    "model_build(y,x,features)"
   ]
  },
  {
   "cell_type": "code",
   "execution_count": 95,
   "id": "6a7565b4-6087-40ae-b661-30e05aad4cb8",
   "metadata": {},
   "outputs": [
    {
     "data": {
      "text/plain": [
       "Index(['crim', 'zn', 'chas', 'nox', 'rm', 'dis', 'rad', 'ptratio', 'lstat'], dtype='object')"
      ]
     },
     "execution_count": 95,
     "metadata": {},
     "output_type": "execute_result"
    }
   ],
   "source": [
    "features = features.drop('indus')\n",
    "features"
   ]
  },
  {
   "cell_type": "code",
   "execution_count": 96,
   "id": "1d311bc5-63fc-43ad-a9cd-06dc80390e50",
   "metadata": {},
   "outputs": [
    {
     "name": "stdout",
     "output_type": "stream",
     "text": [
      "                            OLS Regression Results                            \n",
      "==============================================================================\n",
      "Dep. Variable:                   medv   R-squared:                       0.727\n",
      "Model:                            OLS   Adj. R-squared:                  0.722\n",
      "Method:                 Least Squares   F-statistic:                     146.9\n",
      "Date:                Mon, 22 Apr 2024   Prob (F-statistic):          8.23e-134\n",
      "Time:                        22:13:37   Log-Likelihood:                -1511.5\n",
      "No. Observations:                 506   AIC:                             3043.\n",
      "Df Residuals:                     496   BIC:                             3085.\n",
      "Df Model:                           9                                         \n",
      "Covariance Type:            nonrobust                                         \n",
      "==============================================================================\n",
      "                 coef    std err          t      P>|t|      [0.025      0.975]\n",
      "------------------------------------------------------------------------------\n",
      "const         39.9841      4.945      8.085      0.000      30.268      49.700\n",
      "crim          -0.1185      0.033     -3.559      0.000      -0.184      -0.053\n",
      "zn             0.0366      0.014      2.695      0.007       0.010       0.063\n",
      "chas           3.1394      0.870      3.610      0.000       1.431       4.848\n",
      "nox          -21.3757      3.501     -6.106      0.000     -28.254     -14.497\n",
      "rm             3.8506      0.411      9.368      0.000       3.043       4.658\n",
      "dis           -1.4508      0.189     -7.674      0.000      -1.822      -1.079\n",
      "rad            0.1046      0.041      2.569      0.010       0.025       0.185\n",
      "ptratio       -1.0018      0.130     -7.677      0.000      -1.258      -0.745\n",
      "lstat         -0.5535      0.048    -11.537      0.000      -0.648      -0.459\n",
      "==============================================================================\n",
      "Omnibus:                      160.486   Durbin-Watson:                   1.085\n",
      "Prob(Omnibus):                  0.000   Jarque-Bera (JB):              623.744\n",
      "Skew:                           1.400   Prob(JB):                    3.59e-136\n",
      "Kurtosis:                       7.663   Cond. No.                         774.\n",
      "==============================================================================\n",
      "\n",
      "Notes:\n",
      "[1] Standard Errors assume that the covariance matrix of the errors is correctly specified.\n"
     ]
    }
   ],
   "source": [
    "model_build(y,x,features)"
   ]
  },
  {
   "cell_type": "code",
   "execution_count": null,
   "id": "3bef0319-ab2e-4fd6-b931-f06f66e1a2d5",
   "metadata": {},
   "outputs": [],
   "source": []
  }
 ],
 "metadata": {
  "kernelspec": {
   "display_name": "Python 3 (ipykernel)",
   "language": "python",
   "name": "python3"
  },
  "language_info": {
   "codemirror_mode": {
    "name": "ipython",
    "version": 3
   },
   "file_extension": ".py",
   "mimetype": "text/x-python",
   "name": "python",
   "nbconvert_exporter": "python",
   "pygments_lexer": "ipython3",
   "version": "3.11.0"
  }
 },
 "nbformat": 4,
 "nbformat_minor": 5
}
